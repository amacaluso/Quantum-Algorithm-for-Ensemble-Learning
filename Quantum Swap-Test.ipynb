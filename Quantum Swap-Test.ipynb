{
 "cells": [
  {
   "cell_type": "markdown",
   "metadata": {},
   "source": [
    "# Swap-Test"
   ]
  },
  {
   "cell_type": "markdown",
   "metadata": {},
   "source": [
    "#### Import modules and packages"
   ]
  },
  {
   "cell_type": "code",
   "execution_count": 1,
   "metadata": {},
   "outputs": [
    {
     "name": "stdout",
     "output_type": "stream",
     "text": [
      "The directory output  already exists\n"
     ]
    }
   ],
   "source": [
    "%matplotlib inline\n",
    "\n",
    "from Utils import *\n",
    "\n",
    "create_dir('output')"
   ]
  },
  {
   "cell_type": "markdown",
   "metadata": {},
   "source": [
    "#### Generate random data"
   ]
  },
  {
   "cell_type": "code",
   "execution_count": 2,
   "metadata": {},
   "outputs": [
    {
     "name": "stdout",
     "output_type": "stream",
     "text": [
      "a = [ 9.95 -6.04]\n",
      "b = [-6.   -6.49]\n"
     ]
    }
   ],
   "source": [
    "seed = 543\n",
    "np.random.seed(seed)\n",
    "\n",
    "a = uniform(-10,10,2)\n",
    "b = uniform(-10,10,2)\n",
    "\n",
    "print('a =', np.round(a,2))\n",
    "print('b =', np.round(b,2))"
   ]
  },
  {
   "cell_type": "markdown",
   "metadata": {},
   "source": [
    "## Quantum Algorithm for Swap-Test"
   ]
  },
  {
   "cell_type": "markdown",
   "metadata": {},
   "source": [
    "The swap test is a procedure to measure how much two quantum states differ. If we encode in the amplitudes of two different qubits ( $\\left|a\\right\\rangle$, $\\left|b\\right\\rangle$ ), two 2-dimensional vectors ($a$, $b$), the output of the swap test will be function of the distance between the two vectors. The swap test is performed into two steps:"
   ]
  },
  {
   "cell_type": "markdown",
   "metadata": {},
   "source": [
    "### Step 1: State Preparation\n",
    "\n",
    "$a$ and $b$ are encoded into the amplitudes of two different qubits. The quantum system contains an additional qubit that will store the results:\n",
    "\n",
    "$$\\Big( \\mathbb{1} \\otimes S_{a} \\otimes S_{b} \\Big) \\left|0\\right\\rangle \\left|0\\right\\rangle \\left|0\\right\\rangle = \\left|0\\right\\rangle \\left|a\\right\\rangle \\left|b\\right\\rangle$$\n",
    "\n",
    "where $S_x$ is the routine which encodes in the amplitudes of a qubit a real vector $x$.\n"
   ]
  },
  {
   "cell_type": "markdown",
   "metadata": {},
   "source": [
    "### Step 2: Execution of the swap test\n",
    "\n",
    "$$\\big(H \\otimes \\mathbb{1} \\otimes \\mathbb{1}\\big) \\big(c-SWAP\\big) \\big(H \\otimes \\mathbb{1} \\otimes \\mathbb{1}\\big) \\left|0\\right\\rangle \\left|a\\right\\rangle \\left|b\\right\\rangle $$\n",
    "\n",
    "where $H$ is the Hadamard gate, $c-SWAP$ is the controlled-swap operation which uses the third qubit as control qubit and swap $\\left|a\\right\\rangle$ and $\\left|b\\right\\rangle$ if the controlled qubits is equal to $\\left|1\\right\\rangle$."
   ]
  },
  {
   "cell_type": "markdown",
   "metadata": {},
   "source": [
    "Measuring the first qubits produces the state $0$ with probability:\n",
    "$$P\\big(\\left|0\\right\\rangle\\big) = \\frac{1+|\\left\\langle a|b \\right\\rangle|^2 }{2}$$\n",
    "\n",
    "This probability is $1$ if $a=b$."
   ]
  },
  {
   "cell_type": "markdown",
   "metadata": {},
   "source": [
    "### Circuit for implementing the swap test"
   ]
  },
  {
   "cell_type": "code",
   "execution_count": 3,
   "metadata": {},
   "outputs": [
    {
     "data": {
      "image/png": "[encoded data removed]",
      "text/plain": [
       "<Figure size 872.04x378.4 with 1 Axes>"
      ]
     },
     "execution_count": 3,
     "metadata": {},
     "output_type": "execute_result"
    }
   ],
   "source": [
    "qc = quantum_swap_test(a, b)\n",
    "qc.draw(output='mpl', scale=1)"
   ]
  },
  {
   "cell_type": "markdown",
   "metadata": {},
   "source": [
    "### Execute quantum swap-test"
   ]
  },
  {
   "cell_type": "code",
   "execution_count": 4,
   "metadata": {},
   "outputs": [
    {
     "name": "stdout",
     "output_type": "stream",
     "text": [
      "The probability of state 0 is computed by quantum swap-test is: 0.521240234375\n"
     ]
    }
   ],
   "source": [
    "# Swap test using x1 as training on simulator\n",
    "qc = quantum_swap_test(a,b)\n",
    "measurement = exec_simulator(qc)\n",
    "results = retrieve_proba(measurement)\n",
    "\n",
    "print('The probability of state 0 is computed by quantum swap-test is:', results[0] )"
   ]
  },
  {
   "cell_type": "code",
   "execution_count": 5,
   "metadata": {},
   "outputs": [
    {
     "name": "stdout",
     "output_type": "stream",
     "text": [
      "The same probability computed classically is: 0.5197854055003033\n"
     ]
    }
   ],
   "source": [
    "print('The same probability computed classically is:', classic_swap_test(a, b))"
   ]
  }
 ],
 "metadata": {
  "kernelspec": {
   "display_name": "Python 3",
   "language": "python",
   "name": "python3"
  },
  "language_info": {
   "codemirror_mode": {
    "name": "ipython",
    "version": 3
   },
   "file_extension": ".py",
   "mimetype": "text/x-python",
   "name": "python",
   "nbconvert_exporter": "python",
   "pygments_lexer": "ipython3",
   "version": "3.7.3"
  }
 },
 "nbformat": 4,
 "nbformat_minor": 2
}
