{
 "cells": [
  {
   "cell_type": "code",
   "execution_count": 2,
   "metadata": {},
   "outputs": [
    {
     "name": "stdout",
     "output_type": "stream",
     "text": [
      "The directory output  already exists\n"
     ]
    }
   ],
   "source": [
    "%matplotlib inline\n",
    "\n",
    "from Utils import *\n",
    "\n",
    "create_dir('output')"
   ]
  },
  {
   "cell_type": "code",
   "execution_count": 3,
   "metadata": {},
   "outputs": [
    {
     "data": {
      "text/html": [
       "<div>\n",
       "<style scoped>\n",
       "    .dataframe tbody tr th:only-of-type {\n",
       "        vertical-align: middle;\n",
       "    }\n",
       "\n",
       "    .dataframe tbody tr th {\n",
       "        vertical-align: top;\n",
       "    }\n",
       "\n",
       "    .dataframe thead th {\n",
       "        text-align: right;\n",
       "    }\n",
       "</style>\n",
       "<table border=\"1\" class=\"dataframe\">\n",
       "  <thead>\n",
       "    <tr style=\"text-align: right;\">\n",
       "      <th></th>\n",
       "      <th>x11</th>\n",
       "      <th>x12</th>\n",
       "      <th>x21</th>\n",
       "      <th>x22</th>\n",
       "      <th>x1_test</th>\n",
       "      <th>x2_test</th>\n",
       "    </tr>\n",
       "  </thead>\n",
       "  <tbody>\n",
       "    <tr>\n",
       "      <th>0</th>\n",
       "      <td>3.929384</td>\n",
       "      <td>-4.277213</td>\n",
       "      <td>-5.462971</td>\n",
       "      <td>1.026295</td>\n",
       "      <td>4.389379</td>\n",
       "      <td>-1.537871</td>\n",
       "    </tr>\n",
       "    <tr>\n",
       "      <th>1</th>\n",
       "      <td>9.615284</td>\n",
       "      <td>3.696595</td>\n",
       "      <td>-0.381362</td>\n",
       "      <td>-2.157650</td>\n",
       "      <td>-3.136440</td>\n",
       "      <td>4.580994</td>\n",
       "    </tr>\n",
       "    <tr>\n",
       "      <th>2</th>\n",
       "      <td>-1.228555</td>\n",
       "      <td>-8.806442</td>\n",
       "      <td>-2.039115</td>\n",
       "      <td>4.759908</td>\n",
       "      <td>-6.350165</td>\n",
       "      <td>-6.490965</td>\n",
       "    </tr>\n",
       "    <tr>\n",
       "      <th>3</th>\n",
       "      <td>0.631027</td>\n",
       "      <td>0.636552</td>\n",
       "      <td>2.688019</td>\n",
       "      <td>6.988636</td>\n",
       "      <td>4.489106</td>\n",
       "      <td>2.220470</td>\n",
       "    </tr>\n",
       "    <tr>\n",
       "      <th>4</th>\n",
       "      <td>4.448868</td>\n",
       "      <td>-3.540822</td>\n",
       "      <td>-2.764227</td>\n",
       "      <td>-5.434735</td>\n",
       "      <td>-4.125719</td>\n",
       "      <td>2.619522</td>\n",
       "    </tr>\n",
       "  </tbody>\n",
       "</table>\n",
       "</div>"
      ],
      "text/plain": [
       "        x11       x12       x21       x22   x1_test   x2_test\n",
       "0  3.929384 -4.277213 -5.462971  1.026295  4.389379 -1.537871\n",
       "1  9.615284  3.696595 -0.381362 -2.157650 -3.136440  4.580994\n",
       "2 -1.228555 -8.806442 -2.039115  4.759908 -6.350165 -6.490965\n",
       "3  0.631027  0.636552  2.688019  6.988636  4.489106  2.220470\n",
       "4  4.448868 -3.540822 -2.764227 -5.434735 -4.125719  2.619522"
      ]
     },
     "execution_count": 3,
     "metadata": {},
     "output_type": "execute_result"
    }
   ],
   "source": [
    "seed = 123\n",
    "np.random.seed(seed)\n",
    "\n",
    "runs = 20\n",
    "data = pd.DataFrame()\n",
    "\n",
    "for i in range(runs):\n",
    "    x1 = uniform(-10,10,2)\n",
    "    x2 = uniform(-10,10,2)\n",
    "    x_test = uniform(-10,10,2)\n",
    "\n",
    "    row = pd.Series(np.concatenate((x1, x2, x_test)))\n",
    "    data = data.append(row, ignore_index=True)\n",
    "\n",
    "data.columns = ['x11', 'x12', 'x21', 'x22', 'x1_test', 'x2_test']\n",
    "# data.to_csv('output/data.csv', index=False)\n",
    "# data = data.loc[10:20,:]\n",
    "data.head()"
   ]
  },
  {
   "cell_type": "code",
   "execution_count": 4,
   "metadata": {},
   "outputs": [
    {
     "data": {
      "image/png": "[encoded data removed]",
      "text/plain": [
       "<Figure size 916.244x445.48 with 1 Axes>"
      ]
     },
     "execution_count": 4,
     "metadata": {},
     "output_type": "execute_result"
    }
   ],
   "source": [
    "qc = quantum_ensemble(x1, x2, x_test)\n",
    "qc.draw(output='mpl')"
   ]
  },
  {
   "cell_type": "code",
   "execution_count": 6,
   "metadata": {},
   "outputs": [
    {
     "data": {
      "text/html": [
       "<div>\n",
       "<style scoped>\n",
       "    .dataframe tbody tr th:only-of-type {\n",
       "        vertical-align: middle;\n",
       "    }\n",
       "\n",
       "    .dataframe tbody tr th {\n",
       "        vertical-align: top;\n",
       "    }\n",
       "\n",
       "    .dataframe thead th {\n",
       "        text-align: right;\n",
       "    }\n",
       "</style>\n",
       "<table border=\"1\" class=\"dataframe\">\n",
       "  <thead>\n",
       "    <tr style=\"text-align: right;\">\n",
       "      <th></th>\n",
       "      <th>cAVG</th>\n",
       "      <th>qx1_sim</th>\n",
       "      <th>qx2_sim</th>\n",
       "      <th>qAVG_sim</th>\n",
       "      <th>qEns_sim</th>\n",
       "    </tr>\n",
       "  </thead>\n",
       "  <tbody>\n",
       "    <tr>\n",
       "      <th>0</th>\n",
       "      <td>0.741456</td>\n",
       "      <td>0.893066</td>\n",
       "      <td>0.601318</td>\n",
       "      <td>0.747192</td>\n",
       "      <td>0.743774</td>\n",
       "    </tr>\n",
       "    <tr>\n",
       "      <th>1</th>\n",
       "      <td>0.521828</td>\n",
       "      <td>0.528564</td>\n",
       "      <td>0.516968</td>\n",
       "      <td>0.522766</td>\n",
       "      <td>0.513672</td>\n",
       "    </tr>\n",
       "    <tr>\n",
       "      <th>2</th>\n",
       "      <td>0.911809</td>\n",
       "      <td>0.827148</td>\n",
       "      <td>1.000000</td>\n",
       "      <td>0.913574</td>\n",
       "      <td>0.914917</td>\n",
       "    </tr>\n",
       "    <tr>\n",
       "      <th>3</th>\n",
       "      <td>0.948037</td>\n",
       "      <td>0.944702</td>\n",
       "      <td>0.953003</td>\n",
       "      <td>0.948853</td>\n",
       "      <td>0.949341</td>\n",
       "    </tr>\n",
       "    <tr>\n",
       "      <th>4</th>\n",
       "      <td>0.759047</td>\n",
       "      <td>0.994507</td>\n",
       "      <td>0.509521</td>\n",
       "      <td>0.752014</td>\n",
       "      <td>0.757080</td>\n",
       "    </tr>\n",
       "  </tbody>\n",
       "</table>\n",
       "</div>"
      ],
      "text/plain": [
       "       cAVG   qx1_sim   qx2_sim  qAVG_sim  qEns_sim\n",
       "0  0.741456  0.893066  0.601318  0.747192  0.743774\n",
       "1  0.521828  0.528564  0.516968  0.522766  0.513672\n",
       "2  0.911809  0.827148  1.000000  0.913574  0.914917\n",
       "3  0.948037  0.944702  0.953003  0.948853  0.949341\n",
       "4  0.759047  0.994507  0.509521  0.752014  0.757080"
      ]
     },
     "execution_count": 6,
     "metadata": {},
     "output_type": "execute_result"
    }
   ],
   "source": [
    "data_out = pd.DataFrame()\n",
    "for index, rows in data.iterrows(): \n",
    "\n",
    "    # Extract data\n",
    "    x1 =np.array([rows.x11, rows.x12])\n",
    "    x2 =np.array([rows.x21, rows.x21])\n",
    "    x_test = np.array([rows.x1_test, rows.x2_test])\n",
    "    \n",
    "    # Compute the average classically of classical swap test\n",
    "    cAVG = classic_ensemble(x1, x2, x_test)\n",
    "    \n",
    "    # Swap test using x1 as training on simulator\n",
    "    qc_x1 = quantum_swap_test(x1, x_test)\n",
    "    m1 = exec_simulator(qc_x1)\n",
    "    r1 = retrieve_proba(m1)\n",
    "    \n",
    "    # Swap test using x2 as training on simulator\n",
    "    qc_x2 = quantum_swap_test(x2, x_test)\n",
    "    m2 = exec_simulator(qc_x2)\n",
    "    r2 = retrieve_proba(m2)\n",
    "    \n",
    "    # Compute the average classically\n",
    "    r_avg = np.mean([r1[0],r2[0]])\n",
    "    \n",
    "    # Compute the average using quantum ensemble algorithm on simulator\n",
    "    qc = quantum_ensemble(x1, x2, x_test)\n",
    "    r = exec_simulator(qc)\n",
    "    r_ens = retrieve_proba(r)\n",
    "\n",
    "    row = [cAVG, r1[0], r2[0], r_avg, r_ens[0]]\n",
    "\n",
    "    row = pd.Series(row)\n",
    "    \n",
    "    data_out = data_out.append(row, ignore_index=True)\n"
   ]
  },
  {
   "cell_type": "code",
   "execution_count": 7,
   "metadata": {},
   "outputs": [
    {
     "data": {
      "text/html": [
       "<div>\n",
       "<style scoped>\n",
       "    .dataframe tbody tr th:only-of-type {\n",
       "        vertical-align: middle;\n",
       "    }\n",
       "\n",
       "    .dataframe tbody tr th {\n",
       "        vertical-align: top;\n",
       "    }\n",
       "\n",
       "    .dataframe thead th {\n",
       "        text-align: right;\n",
       "    }\n",
       "</style>\n",
       "<table border=\"1\" class=\"dataframe\">\n",
       "  <thead>\n",
       "    <tr style=\"text-align: right;\">\n",
       "      <th></th>\n",
       "      <th>cAVG</th>\n",
       "      <th>qx1_sim</th>\n",
       "      <th>qx2_sim</th>\n",
       "      <th>qAVG_sim</th>\n",
       "      <th>qEns_sim</th>\n",
       "    </tr>\n",
       "  </thead>\n",
       "  <tbody>\n",
       "    <tr>\n",
       "      <th>0</th>\n",
       "      <td>0.741456</td>\n",
       "      <td>0.893066</td>\n",
       "      <td>0.601318</td>\n",
       "      <td>0.747192</td>\n",
       "      <td>0.743774</td>\n",
       "    </tr>\n",
       "    <tr>\n",
       "      <th>1</th>\n",
       "      <td>0.521828</td>\n",
       "      <td>0.528564</td>\n",
       "      <td>0.516968</td>\n",
       "      <td>0.522766</td>\n",
       "      <td>0.513672</td>\n",
       "    </tr>\n",
       "    <tr>\n",
       "      <th>2</th>\n",
       "      <td>0.911809</td>\n",
       "      <td>0.827148</td>\n",
       "      <td>1.000000</td>\n",
       "      <td>0.913574</td>\n",
       "      <td>0.914917</td>\n",
       "    </tr>\n",
       "    <tr>\n",
       "      <th>3</th>\n",
       "      <td>0.948037</td>\n",
       "      <td>0.944702</td>\n",
       "      <td>0.953003</td>\n",
       "      <td>0.948853</td>\n",
       "      <td>0.949341</td>\n",
       "    </tr>\n",
       "    <tr>\n",
       "      <th>4</th>\n",
       "      <td>0.759047</td>\n",
       "      <td>0.994507</td>\n",
       "      <td>0.509521</td>\n",
       "      <td>0.752014</td>\n",
       "      <td>0.757080</td>\n",
       "    </tr>\n",
       "  </tbody>\n",
       "</table>\n",
       "</div>"
      ],
      "text/plain": [
       "       cAVG   qx1_sim   qx2_sim  qAVG_sim  qEns_sim\n",
       "0  0.741456  0.893066  0.601318  0.747192  0.743774\n",
       "1  0.521828  0.528564  0.516968  0.522766  0.513672\n",
       "2  0.911809  0.827148  1.000000  0.913574  0.914917\n",
       "3  0.948037  0.944702  0.953003  0.948853  0.949341\n",
       "4  0.759047  0.994507  0.509521  0.752014  0.757080"
      ]
     },
     "execution_count": 7,
     "metadata": {},
     "output_type": "execute_result"
    }
   ],
   "source": [
    "data_out.columns = ['cAVG', 'qx1_sim', 'qx2_sim', 'qAVG_sim', 'qEns_sim']\n",
    "# data_out.to_csv('output/data_out_simulator.csv', index=False)\n",
    "data_out.head()"
   ]
  },
  {
   "cell_type": "code",
   "execution_count": 19,
   "metadata": {
    "pycharm": {
     "name": "#%%\n"
    }
   },
   "outputs": [
    {
     "data": {
      "image/png": "[encoded data removed]",
      "text/plain": [
       "<Figure size 432x288 with 1 Axes>"
      ]
     },
     "metadata": {
      "needs_background": "light"
     },
     "output_type": "display_data"
    }
   ],
   "source": [
    "avg = data_out.qAVG_sim\n",
    "ens = data_out.qEns_sim\n",
    "clas = data_out.cAVG\n",
    "\n",
    "plot_multiple_experiments(runs, avg, ens, clas, filename='Simulator')"
   ]
  }
 ],
 "metadata": {
  "kernelspec": {
   "display_name": "Python 3",
   "language": "python",
   "name": "python3"
  },
  "language_info": {
   "codemirror_mode": {
    "name": "ipython",
    "version": 3
   },
   "file_extension": ".py",
   "mimetype": "text/x-python",
   "name": "python",
   "nbconvert_exporter": "python",
   "pygments_lexer": "ipython3",
   "version": "3.7.3"
  }
 },
 "nbformat": 4,
 "nbformat_minor": 2
}