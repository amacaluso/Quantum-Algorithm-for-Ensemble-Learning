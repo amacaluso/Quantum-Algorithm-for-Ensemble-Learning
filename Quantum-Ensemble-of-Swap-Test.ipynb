{
 "cells": [
  {
   "cell_type": "markdown",
   "metadata": {},
   "source": [
    "# Quantum Ensemble of swap-test"
   ]
  },
  {
   "cell_type": "markdown",
   "metadata": {},
   "source": [
    "#### Import modules and packages"
   ]
  },
  {
   "cell_type": "code",
   "execution_count": 3,
   "metadata": {},
   "outputs": [
    {
     "name": "stdout",
     "output_type": "stream",
     "text": [
      "The directory output  already exists\n"
     ]
    }
   ],
   "source": [
    "%matplotlib inline\n",
    "\n",
    "from Utils import *\n",
    "\n",
    "create_dir('output')"
   ]
  },
  {
   "cell_type": "markdown",
   "metadata": {},
   "source": [
    "#### Generate random data"
   ]
  },
  {
   "cell_type": "code",
   "execution_count": 4,
   "metadata": {},
   "outputs": [],
   "source": [
    "seed = 543\n",
    "np.random.seed(seed)\n",
    "\n",
    "x1 = uniform(-10,10,2)\n",
    "x2 = uniform(-10,10,2)\n",
    "x_test = uniform(-10,10,2)"
   ]
  },
  {
   "cell_type": "markdown",
   "metadata": {},
   "source": [
    "## Quantum Ensemble of 2 Swap-Tests"
   ]
  },
  {
   "cell_type": "markdown",
   "metadata": {},
   "source": [
    "The ensemble of swap-tests aims to show that it is possible to obtain the average of the distance between a test vector $\\tilde{x}$ and two training vectors $x_1$ and $x_2$. The circuit that implement the ensemble is the following:"
   ]
  },
  {
   "cell_type": "code",
   "execution_count": 5,
   "metadata": {},
   "outputs": [
    {
     "data": {
      "image/png": "[encoded data removed]",
      "text/plain": [
       "<Figure size 916.244x445.48 with 1 Axes>"
      ]
     },
     "execution_count": 5,
     "metadata": {},
     "output_type": "execute_result"
    }
   ],
   "source": [
    "qc = quantum_ensemble(x1, x2, x_test)\n",
    "qc.draw(output='mpl')"
   ]
  },
  {
   "cell_type": "markdown",
   "metadata": {},
   "source": [
    "### Step 1: State Preparation\n",
    "\n",
    "The vectors $x_1$, $x_2$ and $x_{test}$ are encoded in the amplitudes of three different registers. Plus, the control register is initialised into uniform superposition.\n",
    "\n",
    "$$ \\left|\\Phi_1\\right\\rangle = \\Big( H \\otimes S_{x} \\otimes \\mathbb{1} \\otimes S_{\\tilde{x}} \\otimes \\mathbb{1}   \\Big) \\left|\\Phi_0\\right\\rangle \n",
    "= \n",
    "\\frac{1}{\\sqrt{2}}\\big( \\left|0\\right\\rangle + \\left|1\\right\\rangle \\big) \\otimes \\left|x_1, x_2\\right\\rangle \\otimes \\left|\\phi\\right\\rangle  \\otimes\\left|\\tilde{x}\\right\\rangle \\left|0\\right\\rangle$$\n",
    "\n",
    "where $S_x$ is the routine which encodes in the amplitudes of a qubit a real vector $x$ and $H$ is the Hadamard transformation.\n"
   ]
  },
  {
   "cell_type": "markdown",
   "metadata": {},
   "source": [
    "### Step 2: Sampling in Superposition\n",
    "\n",
    "Fistr a c-Swap is performed, where the swapped qubit are $\\left|x_1\\right\\rangle$ and $\\left| \\phi \\right\\rangle$ ($temp$):\n",
    "\n",
    "$$\\left|\\Phi_{1.1}\\right\\rangle = \\frac{1}{\\sqrt{2}}\\big( \n",
    "\\left|0\\right\\rangle \\left|x_1, x_2\\right\\rangle \\left|\\phi\\right\\rangle  \\left|\\tilde{x}\\right\\rangle \\left|0\\right\\rangle \n",
    "+\n",
    "\\left|1\\right\\rangle \\left|\\phi, x_2\\right\\rangle \\left|x_1\\right\\rangle \\left|\\tilde{x}\\right\\rangle \\left|0\\right\\rangle\n",
    "\\big)$$\n",
    "\n",
    "Then the $Pauli-X$ gate is applied to the $control$ qubit:\n",
    "\n",
    "$$\\left|\\Phi_{1.2}\\right\\rangle = \\frac{1}{\\sqrt{2}}\\big( \n",
    "\\left|1\\right\\rangle \\left|x_1, x_2\\right\\rangle \\left|\\phi\\right\\rangle  \\left|\\tilde{x}\\right\\rangle \\left|0\\right\\rangle \n",
    "+\n",
    "\\left|0\\right\\rangle \\left|\\phi, x_2\\right\\rangle \\left|x_1\\right\\rangle \\left|\\tilde{x}\\right\\rangle \\left|0\\right\\rangle\n",
    "\\big)$$\n",
    "\n",
    "Finally, another c-Swap is performed, this time the swapped qubit are $\\left|x_2\\right\\rangle$ and $\\left| \\phi \\right\\rangle$:\n",
    "$$\\left|\\Phi_{2}\\right\\rangle = \\frac{1}{\\sqrt{2}}\\big( \n",
    "\\left|1\\right\\rangle \\left|x_1, \\phi\\right\\rangle \\left|x_2\\right\\rangle  \\left|\\tilde{x}\\right\\rangle \\left|0\\right\\rangle \n",
    "+\n",
    "\\left|0\\right\\rangle \\left|\\phi, x_2\\right\\rangle \\left|x_1\\right\\rangle \\left|\\tilde{x}\\right\\rangle \\left|0\\right\\rangle\n",
    "\\big)$$\n",
    "\n",
    "At this point the $temp$ register is entangled with the $control$ register and stores the vectors $x_1$ and $x_2$."
   ]
  },
  {
   "cell_type": "markdown",
   "metadata": {},
   "source": [
    "### Step 3: Classification\n",
    "\n",
    "The $temp$ register is given as input to the swap-test, together with test register. The C gate represents the swap test, which acts on the $temp$ and $test$ registers and stores the results in the $target$ register:\n",
    "\n",
    "$$\\left|\\Phi_{3}\\right\\rangle = \\Big( \\mathbb{1} \\otimes \\mathbb{1} \\otimes C \\Big)\\left|\\Phi_{2}\\right\\rangle$$\n",
    "\n",
    "\n",
    "$$\\left|\\Phi_{3}\\right\\rangle = \\frac{1}{\\sqrt{2}}\\big( \n",
    "\\left|1\\right\\rangle\\left|x_1, \\phi\\right\\rangle C \\left|x_2\\right\\rangle  \\left|\\tilde{x}\\right\\rangle \\left|0\\right\\rangle \n",
    "+\n",
    "\\left|0\\right\\rangle \\left|\\phi, x_2\\right\\rangle C \\left|x_1\\right\\rangle \\left|\\tilde{x}\\right\\rangle \\left|0\\right\\rangle\n",
    "\\big)$$\n",
    "\n",
    "$$\\left|\\Phi_{3}\\right\\rangle = \\frac{1}{\\sqrt{2}}\\big( \n",
    "\\left|1\\right\\rangle\\left|x_1, \\phi\\right\\rangle \\left|x_2\\right\\rangle  \\left|\\tilde{x}\\right\\rangle \\left|f_2\\right\\rangle \n",
    "+\n",
    "\\left|0\\right\\rangle \\left|\\phi, x_2\\right\\rangle \\left|x_1\\right\\rangle \\left|\\tilde{x}\\right\\rangle \\left|f_1\\right\\rangle\n",
    "\\big)$$\n",
    "\n",
    "where $f_1$ and $f_2$ measure how much $\\tilde{x}$ differs from $x_1$ and $x_2$, according to the swap-test. Thus, measuring the last qubit leads to the average between $f_1$ and $f_2$."
   ]
  },
  {
   "cell_type": "code",
   "execution_count": 19,
   "metadata": {},
   "outputs": [],
   "source": [
    "# Swap test using x1 as training on simulator\n",
    "qc = quantum_ensemble(x1, x2, x_test)\n",
    "measurement = exec_simulator(qc)\n",
    "results = retrieve_proba(measurement)"
   ]
  },
  {
   "cell_type": "code",
   "execution_count": 21,
   "metadata": {},
   "outputs": [
    {
     "name": "stdout",
     "output_type": "stream",
     "text": [
      "The average probability which measure the distance of the test from $x_1$ and $x_2$ is: 0.7598876953125\n"
     ]
    }
   ],
   "source": [
    "print('The average probability which measure the distance of the test from $x_1$ and $x_2$ is:', results[0])"
   ]
  },
  {
   "cell_type": "code",
   "execution_count": 22,
   "metadata": {},
   "outputs": [
    {
     "name": "stdout",
     "output_type": "stream",
     "text": [
      "The same probability computed classically is: 0.7663755166282329\n"
     ]
    }
   ],
   "source": [
    "print('The same probability computed classically is:', classic_ensemble(x1, x2, x_test))"
   ]
  }
 ],
 "metadata": {
  "kernelspec": {
   "display_name": "Python 3",
   "language": "python",
   "name": "python3"
  },
  "language_info": {
   "codemirror_mode": {
    "name": "ipython",
    "version": 3
   },
   "file_extension": ".py",
   "mimetype": "text/x-python",
   "name": "python",
   "nbconvert_exporter": "python",
   "pygments_lexer": "ipython3",
   "version": "3.7.3"
  }
 },
 "nbformat": 4,
 "nbformat_minor": 2
}
