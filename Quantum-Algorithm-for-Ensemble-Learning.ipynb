{
 "cells": [
  {
   "cell_type": "code",
   "execution_count": 1,
   "metadata": {},
   "outputs": [
    {
     "name": "stdout",
     "output_type": "stream",
     "text": [
      "The directory output  already exists\n"
     ]
    }
   ],
   "source": [
    "%matplotlib inline\n",
    "\n",
    "from Utils import *\n",
    "\n",
    "create_dir('output')"
   ]
  },
  {
   "cell_type": "code",
   "execution_count": 2,
   "metadata": {},
   "outputs": [],
   "source": [
    "def state_prep(x):\n",
    "    backend = Aer.get_backend('unitary_simulator')\n",
    "\n",
    "    x = normalize_custom(x)\n",
    "\n",
    "    qreg = QuantumRegister(1)\n",
    "    qc = QuantumCircuit(qreg)\n",
    "    # Run the quantum circuit on a unitary simulator backend\n",
    "    qc.initialize(x,[qreg])\n",
    "    job = execute(qc, backend)\n",
    "    result = job.result()\n",
    "    \n",
    "    U = result.get_unitary(qc)\n",
    "    S = Operator(U)\n",
    "    return S"
   ]
  },
  {
   "cell_type": "code",
   "execution_count": 3,
   "metadata": {},
   "outputs": [],
   "source": [
    "def classic_swap_test(x,y):\n",
    "    sim = dot(x, y)/(norm(x)*norm(y))\n",
    "    out = 1/2 + (sim**2)/2\n",
    "    return out\n",
    "    \n",
    "def classic_ensemble(x1, x2, x_test):\n",
    "    avg = np.mean([classic_swap_test(x1, x_test), classic_swap_test(x2, x_test)])       \n",
    "    return avg"
   ]
  },
  {
   "cell_type": "code",
   "execution_count": 4,
   "metadata": {},
   "outputs": [],
   "source": [
    "def quantum_swap_test(a,b):\n",
    "    a = normalize_custom(a)\n",
    "    b = normalize_custom(b)\n",
    "    \n",
    "    ancilla = QuantumRegister(1, 'y')\n",
    "    v1 = QuantumRegister(1, 'v_1')\n",
    "    v2 = QuantumRegister(1, 'v_2')\n",
    "    \n",
    "    c = ClassicalRegister(1, 'c')\n",
    "    \n",
    "    qc = QuantumCircuit(v1, v2, ancilla, c)\n",
    "    \n",
    "    S1 = state_prep(a)\n",
    "    qc.unitary(S1, [0], label='$S_{a}$')\n",
    "\n",
    "    S2 = state_prep(b)\n",
    "    qc.unitary(S2, [1], label='$S_{b}$')\n",
    "\n",
    "    qc.barrier()\n",
    "    \n",
    "    qc.h(ancilla[0])\n",
    "    qc.cswap(ancilla[0], v1[0], v2[0])\n",
    "    qc.h(ancilla[0])\n",
    "    qc.measure(ancilla[0], c)\n",
    "    return qc\n",
    "\n",
    "    \n",
    "\n",
    "def quantum_ensemble(x1, x2, x_test):\n",
    "    n_obs = 2\n",
    "    d=1\n",
    "    \n",
    "    control = QuantumRegister(d, 'd')\n",
    "    data = QuantumRegister(n_obs, 'x')\n",
    "    temp = QuantumRegister(1, 'temp')\n",
    "    data_test = QuantumRegister(1, 'x^{test}')\n",
    "    avg = QuantumRegister(1, 'f_{i}')\n",
    "    c = ClassicalRegister(1, 'c')\n",
    "\n",
    "    qc = QuantumCircuit(control, data, temp, data_test, avg, c)\n",
    "\n",
    "    S1 = state_prep(x1)\n",
    "    qc.unitary(S1, [1], label='$S_x$')\n",
    "    \n",
    "    S2 = state_prep(x2)\n",
    "    qc.unitary(S2, [2], label='$S_x$')\n",
    "    \n",
    "    S3 = state_prep(x_test)\n",
    "    qc.unitary(S3, [4], label='$S_{x}$')\n",
    "    \n",
    "    qc.h(control)\n",
    "\n",
    "    qc.barrier()\n",
    "\n",
    "    qc.cswap(control[0], data[0], temp[0])\n",
    "\n",
    "    qc.x(control[0])\n",
    "    qc.cswap(control[0], data[1], temp[0])\n",
    "    qc.barrier()\n",
    "    \n",
    "    \n",
    "    qc.h(avg[0])\n",
    "    qc.cswap(avg[0], temp[0], data_test[0])\n",
    "    qc.h(avg[0])\n",
    "    qc.measure(avg[0], c)\n",
    "    return qc"
   ]
  },
  {
   "cell_type": "code",
   "execution_count": 9,
   "metadata": {},
   "outputs": [
    {
     "data": {
      "text/html": [
       "<div>\n",
       "<style scoped>\n",
       "    .dataframe tbody tr th:only-of-type {\n",
       "        vertical-align: middle;\n",
       "    }\n",
       "\n",
       "    .dataframe tbody tr th {\n",
       "        vertical-align: top;\n",
       "    }\n",
       "\n",
       "    .dataframe thead th {\n",
       "        text-align: right;\n",
       "    }\n",
       "</style>\n",
       "<table border=\"1\" class=\"dataframe\">\n",
       "  <thead>\n",
       "    <tr style=\"text-align: right;\">\n",
       "      <th></th>\n",
       "      <th>x11</th>\n",
       "      <th>x12</th>\n",
       "      <th>x21</th>\n",
       "      <th>x22</th>\n",
       "      <th>x1_test</th>\n",
       "      <th>x2_test</th>\n",
       "    </tr>\n",
       "  </thead>\n",
       "  <tbody>\n",
       "    <tr>\n",
       "      <th>18</th>\n",
       "      <td>7.089050</td>\n",
       "      <td>-2.303244</td>\n",
       "      <td>-3.664242</td>\n",
       "      <td>-2.914706</td>\n",
       "      <td>-6.578363</td>\n",
       "      <td>6.582253</td>\n",
       "    </tr>\n",
       "    <tr>\n",
       "      <th>19</th>\n",
       "      <td>-3.226583</td>\n",
       "      <td>1.047402</td>\n",
       "      <td>1.571029</td>\n",
       "      <td>0.430661</td>\n",
       "      <td>-9.946239</td>\n",
       "      <td>9.766908</td>\n",
       "    </tr>\n",
       "    <tr>\n",
       "      <th>20</th>\n",
       "      <td>8.106832</td>\n",
       "      <td>-5.847283</td>\n",
       "      <td>-4.150212</td>\n",
       "      <td>0.400203</td>\n",
       "      <td>8.038227</td>\n",
       "      <td>9.672618</td>\n",
       "    </tr>\n",
       "    <tr>\n",
       "      <th>21</th>\n",
       "      <td>-4.849159</td>\n",
       "      <td>1.287181</td>\n",
       "      <td>6.139374</td>\n",
       "      <td>-2.112599</td>\n",
       "      <td>4.621461</td>\n",
       "      <td>-6.778620</td>\n",
       "    </tr>\n",
       "  </tbody>\n",
       "</table>\n",
       "</div>"
      ],
      "text/plain": [
       "         x11       x12       x21       x22   x1_test   x2_test\n",
       "18  7.089050 -2.303244 -3.664242 -2.914706 -6.578363  6.582253\n",
       "19 -3.226583  1.047402  1.571029  0.430661 -9.946239  9.766908\n",
       "20  8.106832 -5.847283 -4.150212  0.400203  8.038227  9.672618\n",
       "21 -4.849159  1.287181  6.139374 -2.112599  4.621461 -6.778620"
      ]
     },
     "execution_count": 9,
     "metadata": {},
     "output_type": "execute_result"
    }
   ],
   "source": [
    "seed = 123\n",
    "np.random.seed(seed)\n",
    "\n",
    "runs = 30\n",
    "data = pd.DataFrame()\n",
    "\n",
    "for i in range(runs):\n",
    "    x1 = uniform(-10,10,2)\n",
    "    x2 = uniform(-10,10,2)\n",
    "    x_test = uniform(-10,10,2)\n",
    "\n",
    "    row = pd.Series(np.concatenate((x1, x2, x_test)))\n",
    "    data = data.append(row, ignore_index=True)\n",
    "\n",
    "data.columns = ['x11', 'x12', 'x21', 'x22', 'x1_test', 'x2_test']\n",
    "# data.to_csv('output/data.csv', index=False)\n",
    "data = data.loc[18:21,:]\n",
    "data"
   ]
  },
  {
   "cell_type": "code",
   "execution_count": 10,
   "metadata": {},
   "outputs": [
    {
     "name": "stderr",
     "output_type": "stream",
     "text": [
      "ibmqfactory.load_account:WARNING:2020-05-31 19:17:59,875: Credentials are already in use. The existing account in the session will be replaced.\n"
     ]
    }
   ],
   "source": [
    "# Execution on real device\n",
    "IBMQ.load_account()\n",
    "provider = IBMQ.get_provider(hub='ibm-q')\n",
    "provider.backends()\n",
    "backend_16 = provider.get_backend('ibmq_16_melbourne')\n",
    "backend_5 = provider.get_backend('ibmq_rome')"
   ]
  },
  {
   "cell_type": "code",
   "execution_count": 11,
   "metadata": {},
   "outputs": [
    {
     "name": "stdout",
     "output_type": "stream",
     "text": [
      "0\n",
      "1\n",
      "2\n",
      "3\n"
     ]
    }
   ],
   "source": [
    "data_out = pd.DataFrame()\n",
    "i =0\n",
    "for index, rows in data.iterrows(): \n",
    "\n",
    "    # Extract data\n",
    "    x1 =np.array([rows.x11, rows.x12])\n",
    "    x2 =np.array([rows.x21, rows.x21])\n",
    "    x_test = np.array([rows.x1_test, rows.x2_test])\n",
    "    \n",
    "    # Compute the average classically of classical swap test\n",
    "    cAVG = classic_ensemble(x1, x2, x_test)\n",
    "    \n",
    "    # Swap test using x1 as training on simulator\n",
    "    qc_x1 = quantum_swap_test(x1, x_test)\n",
    "    m1 = exec_simulator(qc_x1)\n",
    "    r1 = retrieve_proba(m1)\n",
    "    \n",
    "    # Swap test using x2 as training on simulator\n",
    "    qc_x2 = quantum_swap_test(x2, x_test)\n",
    "    m2 = exec_simulator(qc_x2)\n",
    "    r2 = retrieve_proba(m2)\n",
    "    \n",
    "    # Compute the average classically\n",
    "    r_avg = np.mean([r1[0],r2[0]])\n",
    "    \n",
    "    # Compute the average using quantum ensemble algorithm on simulator\n",
    "    qc = quantum_ensemble(x1, x2, x_test)\n",
    "    r = exec_simulator(qc)\n",
    "    r_ens = retrieve_proba(r)\n",
    "\n",
    "    # Using real devices\n",
    "    \n",
    "    # Swap test using x1 as training on real device\n",
    "    qc_x1_real = quantum_swap_test(x1, x_test)\n",
    "    r_x1_real = run_real_device(qc_x1_real, backend_5)\n",
    "    r1_rl = retrieve_proba(r_x1_real)\n",
    "    \n",
    "    # Swap test using x2 as training on real device\n",
    "    qc_x2_real = quantum_swap_test(x2, x_test)\n",
    "    r_x2_real = run_real_device(qc_x2_real, backend_5)\n",
    "    r2_rl = retrieve_proba(r_x2_real)\n",
    "    \n",
    "    # Compute the average classically\n",
    "    r_avg_real = np.mean([r1_rl[0],r2_rl[0]])\n",
    "\n",
    "    # Compute the average using quantum ensemble algorithm on real device\n",
    "    qc = quantum_ensemble(x1, x2, x_test)\n",
    "    qc = transpile(qc, basis_gates = ['u1', 'u2', 'u3', 'cx'], optimization_level=3)\n",
    "\n",
    "    r_ens_real = run_real_device(qc, backend_16)\n",
    "    r_ens_rl = retrieve_proba(r_ens_real)\n",
    "\n",
    "    row = [cAVG, r1[0], r2[0], r_avg, r_ens[0], r1_rl[0], r2_rl[0], r_avg_real, r_ens_rl[0] ]\n",
    "\n",
    "    row = pd.Series(row)\n",
    "    \n",
    "    print(i)\n",
    "    i = i+1\n",
    "    \n",
    "    data_out = data_out.append(row, ignore_index=True)\n",
    "\n",
    "data_out.columns = ['cAVG', 'qx1_sim', 'qx2_sim', 'qAVG_sim', 'qEns_sim', 'qx1_real', 'qx2_real', 'qAVG_real', 'qEns_real']\n",
    "data_out.to_csv('output/data_out_18_21.csv', index=False)"
   ]
  },
  {
   "cell_type": "code",
   "execution_count": 22,
   "metadata": {},
   "outputs": [
    {
     "data": {
      "text/html": [
       "<div>\n",
       "<style scoped>\n",
       "    .dataframe tbody tr th:only-of-type {\n",
       "        vertical-align: middle;\n",
       "    }\n",
       "\n",
       "    .dataframe tbody tr th {\n",
       "        vertical-align: top;\n",
       "    }\n",
       "\n",
       "    .dataframe thead th {\n",
       "        text-align: right;\n",
       "    }\n",
       "</style>\n",
       "<table border=\"1\" class=\"dataframe\">\n",
       "  <thead>\n",
       "    <tr style=\"text-align: right;\">\n",
       "      <th></th>\n",
       "      <th>0</th>\n",
       "      <th>1</th>\n",
       "      <th>2</th>\n",
       "      <th>3</th>\n",
       "      <th>4</th>\n",
       "      <th>5</th>\n",
       "      <th>6</th>\n",
       "      <th>7</th>\n",
       "      <th>8</th>\n",
       "    </tr>\n",
       "  </thead>\n",
       "  <tbody>\n",
       "    <tr>\n",
       "      <th>0</th>\n",
       "      <td>0.514071</td>\n",
       "      <td>0.517212</td>\n",
       "      <td>0.512817</td>\n",
       "      <td>0.515015</td>\n",
       "      <td>0.516479</td>\n",
       "      <td>0.519531</td>\n",
       "      <td>0.513794</td>\n",
       "      <td>0.516663</td>\n",
       "      <td>0.632935</td>\n",
       "    </tr>\n",
       "    <tr>\n",
       "      <th>1</th>\n",
       "      <td>0.750120</td>\n",
       "      <td>0.999878</td>\n",
       "      <td>0.511597</td>\n",
       "      <td>0.755737</td>\n",
       "      <td>0.754761</td>\n",
       "      <td>0.818970</td>\n",
       "      <td>0.510986</td>\n",
       "      <td>0.664978</td>\n",
       "      <td>0.673706</td>\n",
       "    </tr>\n",
       "    <tr>\n",
       "      <th>2</th>\n",
       "      <td>0.734984</td>\n",
       "      <td>0.799927</td>\n",
       "      <td>0.666626</td>\n",
       "      <td>0.733276</td>\n",
       "      <td>0.732666</td>\n",
       "      <td>0.706177</td>\n",
       "      <td>0.576050</td>\n",
       "      <td>0.641113</td>\n",
       "      <td>0.545288</td>\n",
       "    </tr>\n",
       "    <tr>\n",
       "      <th>3</th>\n",
       "      <td>0.696038</td>\n",
       "      <td>0.840942</td>\n",
       "      <td>0.553467</td>\n",
       "      <td>0.697205</td>\n",
       "      <td>0.687012</td>\n",
       "      <td>0.647583</td>\n",
       "      <td>0.515137</td>\n",
       "      <td>0.581360</td>\n",
       "      <td>0.619873</td>\n",
       "    </tr>\n",
       "    <tr>\n",
       "      <th>4</th>\n",
       "      <td>0.967991</td>\n",
       "      <td>0.984131</td>\n",
       "      <td>0.953003</td>\n",
       "      <td>0.968567</td>\n",
       "      <td>0.970337</td>\n",
       "      <td>0.708740</td>\n",
       "      <td>0.810791</td>\n",
       "      <td>0.759766</td>\n",
       "      <td>0.671021</td>\n",
       "    </tr>\n",
       "    <tr>\n",
       "      <th>5</th>\n",
       "      <td>0.972389</td>\n",
       "      <td>0.997925</td>\n",
       "      <td>0.947632</td>\n",
       "      <td>0.972778</td>\n",
       "      <td>0.972290</td>\n",
       "      <td>0.718872</td>\n",
       "      <td>0.729004</td>\n",
       "      <td>0.723938</td>\n",
       "      <td>0.571411</td>\n",
       "    </tr>\n",
       "    <tr>\n",
       "      <th>6</th>\n",
       "      <td>0.675724</td>\n",
       "      <td>0.566040</td>\n",
       "      <td>0.789062</td>\n",
       "      <td>0.677551</td>\n",
       "      <td>0.676636</td>\n",
       "      <td>0.537598</td>\n",
       "      <td>0.634277</td>\n",
       "      <td>0.585938</td>\n",
       "      <td>0.701904</td>\n",
       "    </tr>\n",
       "  </tbody>\n",
       "</table>\n",
       "</div>"
      ],
      "text/plain": [
       "          0         1         2         3         4         5         6  \\\n",
       "0  0.514071  0.517212  0.512817  0.515015  0.516479  0.519531  0.513794   \n",
       "1  0.750120  0.999878  0.511597  0.755737  0.754761  0.818970  0.510986   \n",
       "2  0.734984  0.799927  0.666626  0.733276  0.732666  0.706177  0.576050   \n",
       "3  0.696038  0.840942  0.553467  0.697205  0.687012  0.647583  0.515137   \n",
       "4  0.967991  0.984131  0.953003  0.968567  0.970337  0.708740  0.810791   \n",
       "5  0.972389  0.997925  0.947632  0.972778  0.972290  0.718872  0.729004   \n",
       "6  0.675724  0.566040  0.789062  0.677551  0.676636  0.537598  0.634277   \n",
       "\n",
       "          7         8  \n",
       "0  0.516663  0.632935  \n",
       "1  0.664978  0.673706  \n",
       "2  0.641113  0.545288  \n",
       "3  0.581360  0.619873  \n",
       "4  0.759766  0.671021  \n",
       "5  0.723938  0.571411  \n",
       "6  0.585938  0.701904  "
      ]
     },
     "execution_count": 22,
     "metadata": {},
     "output_type": "execute_result"
    }
   ],
   "source": [
    "data_out"
   ]
  },
  {
   "cell_type": "code",
   "execution_count": 23,
   "metadata": {},
   "outputs": [],
   "source": [
    "data_out.columns = ['cAVG', 'qx1_sim', 'qx2_sim', 'qAVG_sim', 'qEns_sim', 'qx1_real', 'qx2_real', 'qAVG_real', 'qEns_real']\n",
    "data_out.to_csv('output/data_out_10_17.csv', index=False)"
   ]
  },
  {
   "cell_type": "code",
   "execution_count": 16,
   "metadata": {},
   "outputs": [],
   "source": [
    "p0_avg = data_out.qAVG_sim\n",
    "p0_ens = data_out.qEns_sim\n",
    "p0_clas = data_out.cAVG"
   ]
  },
  {
   "cell_type": "code",
   "execution_count": 17,
   "metadata": {},
   "outputs": [
    {
     "data": {
      "image/png": "[encoded data removed]",
      "text/plain": [
       "<Figure size 432x288 with 1 Axes>"
      ]
     },
     "metadata": {
      "needs_background": "light"
     },
     "output_type": "display_data"
    }
   ],
   "source": [
    "x = np.arange(runs)\n",
    "\n",
    "ax = plt.subplot()\n",
    "ax.plot(x, p0_ens, color='orange', label='qEnsemble', zorder=1, linewidth=5)\n",
    "ax.plot(x, p0_avg, color='steelblue', label='qAVG')\n",
    "ax.scatter(x, p0_clas, label='cAVG', color='sienna', zorder=2, linewidth=.5)\n",
    "\n",
    "#ax.set_xlim(-1.1, 1.1)\n",
    "# ax.set_ylim(-.2, 1.05)\n",
    "ax.grid(alpha=0.3)\n",
    "#ax.set_xticks(np.round(np.arange(-1, 1.1, .4), 1).tolist())\n",
    "ax.set_title('Comparison', size=14)\n",
    "ax.tick_params(labelsize=12)\n",
    "ax.legend(loc='upper center', bbox_to_anchor=(0.5, -.15),\n",
    "          ncol=4, fancybox=True, shadow=True, fontsize = 12)\n",
    "plt.savefig('output/simulator.png', dpi = 300, bbox_inches='tight')"
   ]
  },
  {
   "cell_type": "code",
   "execution_count": 18,
   "metadata": {},
   "outputs": [],
   "source": [
    "p0_avg = data_out.qAVG_real\n",
    "p0_ens = data_out.qEns_real\n",
    "p0_clas = data_out.cAVG"
   ]
  },
  {
   "cell_type": "code",
   "execution_count": 19,
   "metadata": {},
   "outputs": [
    {
     "data": {
      "image/png": "[encoded data removed]",
      "text/plain": [
       "<Figure size 432x288 with 1 Axes>"
      ]
     },
     "metadata": {
      "needs_background": "light"
     },
     "output_type": "display_data"
    }
   ],
   "source": [
    "x = np.arange(runs)\n",
    "\n",
    "ax = plt.subplot()\n",
    "ax.plot(x, p0_ens, color='orange', label='qEnsemble', zorder=1, linewidth=5)\n",
    "ax.plot(x, p0_avg, color='steelblue', label='qAVG')\n",
    "ax.scatter(x, p0_clas, label='cAVG', color='sienna', zorder=2, linewidth=.5)\n",
    "\n",
    "#ax.set_xlim(-1.1, 1.1)\n",
    "# ax.set_ylim(-.2, 1.05)\n",
    "ax.grid(alpha=0.3)\n",
    "#ax.set_xticks(np.round(np.arange(-1, 1.1, .4), 1).tolist())\n",
    "ax.set_title('Comparison', size=14)\n",
    "ax.tick_params(labelsize=12)\n",
    "ax.legend(loc='upper center', bbox_to_anchor=(0.5, -.15),\n",
    "          ncol=4, fancybox=True, shadow=True, fontsize = 12)\n",
    "plt.savefig('output/real.png', dpi = 300, bbox_inches='tight')"
   ]
  },
  {
   "cell_type": "code",
   "execution_count": 22,
   "metadata": {},
   "outputs": [
    {
     "data": {
      "text/plain": [
       "Ttest_indResult(statistic=-4.684692913494787, pvalue=0.00018453838027124653)"
      ]
     },
     "execution_count": 22,
     "metadata": {},
     "output_type": "execute_result"
    }
   ],
   "source": [
    "ttest_ind(p0_ens, p0_clas)"
   ]
  },
  {
   "cell_type": "code",
   "execution_count": 24,
   "metadata": {},
   "outputs": [
    {
     "data": {
      "image/png": "[encoded data removed]",
      "text/plain": [
       "<Figure size 621.264x264.88 with 1 Axes>"
      ]
     },
     "execution_count": 24,
     "metadata": {},
     "output_type": "execute_result"
    }
   ],
   "source": [
    "qc = quantum_swap_test(x1, x2)\n",
    "qc.draw(output='mpl')"
   ]
  },
  {
   "cell_type": "code",
   "execution_count": 25,
   "metadata": {},
   "outputs": [
    {
     "data": {
      "image/png": "[encoded data removed]",
      "text/plain": [
       "<Figure size 916.244x445.48 with 1 Axes>"
      ]
     },
     "execution_count": 25,
     "metadata": {},
     "output_type": "execute_result"
    }
   ],
   "source": [
    "qc = quantum_ensemble(x1, x2, x_test)\n",
    "qc.draw(output='mpl')"
   ]
  },
  {
   "cell_type": "code",
   "execution_count": null,
   "metadata": {
    "pycharm": {
     "name": "#%%\n"
    }
   },
   "outputs": [],
   "source": [
    "# plt.plot(np.arange(runs), p0_ens, marker='o', color='blue', label='Ens')\n",
    "# plt.plot(np.arange(runs), p0_avg, marker='o', color='orange', label = 'qAVG')\n",
    "# plt.plot(np.arange(runs), p0_clas, marker='o', color='green', label = 'cAVG')\n",
    "\n",
    "# plt.title('Comparison: AVG vs Ensemble', size=12).set_position([.5, 1.05])\n",
    "# plt.xlabel('runs', size=12)\n",
    "# plt.ylabel(r'$P(\\tilde{y}=1)$', size =12)\n",
    "# plt.xticks(np.arange(0, runs+1, 5), size = 12)\n",
    "# plt.yticks([0.0, 0.2, 0.4, 0.6, 0.8, 1.0], size = 12)\n",
    "# plt.ylim(.4,1)\n",
    "# plt.grid(alpha=.3)\n",
    "# plt.legend()\n",
    "# plt.savefig('multi_run.png', dpi = 300)"
   ]
  },
  {
   "cell_type": "code",
   "execution_count": null,
   "metadata": {
    "pycharm": {
     "name": "#%%\n"
    }
   },
   "outputs": [],
   "source": [
    "fig, (ax, ax1) = plt.subplots(1, 2, figsize=(10,3))\n",
    "\n",
    "p0_avg = data_out.qAVG_sim\n",
    "p0_ens = data_out.qEns_sim\n",
    "p0_clas = data_out.cAVG\n",
    "\n",
    "#ax = plt.subplot(221)\n",
    "\n",
    "ax.plot(x, p0_ens, color='orange', label='qEnsemble', zorder=1, linewidth=5)\n",
    "ax.plot(x, p0_avg, color='steelblue', label='qAVG')\n",
    "ax.scatter(x, p0_clas, label='cAVG', color='sienna', zorder=2, linewidth=.5)\n",
    "\n",
    "#ax.set_xlim(-1.1, 1.1)\n",
    "# ax.set_ylim(-.2, 1.05)\n",
    "ax.grid(alpha=0.3)\n",
    "#ax.set_xticks(np.round(np.arange(-1, 1.1, .4), 1).tolist())\n",
    "#ax.set_title('Comparison', size=14)\n",
    "ax.tick_params(labelsize=12)\n",
    "\n",
    "\n",
    "avg = data_out.qAVG_real\n",
    "ens = data_out.qEns_real\n",
    "clas = data_out.cAVG\n",
    "\n",
    "#ax1 = plt.subplot(222)\n",
    "\n",
    "ax1.plot(x, ens, color='orange', label='qEnsemble', zorder=1, linewidth=5)\n",
    "ax1.plot(x, avg, color='steelblue', label='qAVG')\n",
    "ax1.scatter(x, clas, label='cAVG', color='sienna', zorder=2, linewidth=.5)\n",
    "\n",
    "#ax.set_xlim(-1.1, 1.1)\n",
    "# ax.set_ylim(-.2, 1.05)\n",
    "ax1.grid(alpha=0.3)\n",
    "#ax.set_xticks(np.round(np.arange(-1, 1.1, .4), 1).tolist())\n",
    "#ax.set_title('Comparison', size=14)\n",
    "ax1.tick_params(labelsize=12)\n",
    "# plt.legend(loc='lower center',# bbox_to_anchor=(0.5, -.15),\n",
    "#           ncol=3, fancybox=True, shadow=True, fontsize = 12)\n",
    "handles, labels = ax.get_legend_handles_labels()\n",
    "lgd=fig.legend(handles, labels, loc='lower center', ncol=3, bbox_to_anchor=(0.4, -.025))\n",
    "\n",
    "plt.savefig('output/experiments.png', dpi = 300, bbox_extra_artists=(lgd,), bbox_inches='tight')\n",
    "plt.show()\n",
    "plt.close()\n",
    "\n"
   ]
  },
  {
   "cell_type": "code",
   "execution_count": 76,
   "metadata": {},
   "outputs": [
    {
     "data": {
      "image/png": "[encoded data removed]",
      "text/plain": [
       "<Figure size 720x216 with 2 Axes>"
      ]
     },
     "metadata": {
      "needs_background": "light"
     },
     "output_type": "display_data"
    }
   ],
   "source": [
    "fig, (ax, ax1) = plt.subplots(1, 2, figsize=(10,3))\n",
    "\n",
    "p0_avg = data_out.qAVG_sim\n",
    "p0_ens = data_out.qEns_sim\n",
    "p0_clas = data_out.cAVG\n",
    "\n",
    "#ax = plt.subplot(221)\n",
    "\n",
    "ax.plot(x, p0_ens, color='orange', label='qEnsemble', zorder=1, linewidth=5)\n",
    "ax.plot(x, p0_avg, color='steelblue', label='qAVG')\n",
    "ax.scatter(x, p0_clas, label='cAVG', color='sienna', zorder=2, linewidth=.5)\n",
    "\n",
    "#ax.set_xlim(-1.1, 1.1)\n",
    "# ax.set_ylim(-.2, 1.05)\n",
    "ax.grid(alpha=0.3)\n",
    "#ax.set_xticks(np.round(np.arange(-1, 1.1, .4), 1).tolist())\n",
    "#ax.set_title('Comparison', size=14)\n",
    "ax.tick_params(labelsize=12)\n",
    "\n",
    "\n",
    "avg = data_out.qAVG_real\n",
    "ens = data_out.qEns_real\n",
    "clas = data_out.cAVG\n",
    "\n",
    "#ax1 = plt.subplot(222)\n",
    "\n",
    "ax1.plot(x, ens, color='orange', label='qEnsemble', zorder=1, linewidth=5)\n",
    "ax1.plot(x, avg, color='steelblue', label='qAVG')\n",
    "ax1.scatter(x, clas, label='cAVG', color='sienna', zorder=2, linewidth=.5)\n",
    "\n",
    "#ax.set_xlim(-1.1, 1.1)\n",
    "# ax.set_ylim(-.2, 1.05)\n",
    "ax1.grid(alpha=0.3)\n",
    "#ax.set_xticks(np.round(np.arange(-1, 1.1, .4), 1).tolist())\n",
    "#ax.set_title('Comparison', size=14)\n",
    "ax1.tick_params(labelsize=12)\n",
    "# plt.legend(loc='lower center',# bbox_to_anchor=(0.5, -.15),\n",
    "#           ncol=3, fancybox=True, shadow=True, fontsize = 12)\n",
    "handles, labels = ax.get_legend_handles_labels()\n",
    "lgd=fig.legend(handles, labels, loc='lower center', ncol=3, bbox_to_anchor=(0.4, -.025))\n",
    "\n",
    "plt.savefig('output/experiments.png', dpi = 300, bbox_extra_artists=(lgd,), bbox_inches='tight')\n",
    "plt.show()\n",
    "plt.close()\n",
    "\n"
   ]
  }
 ],
 "metadata": {
  "kernelspec": {
   "display_name": "Python 3",
   "language": "python",
   "name": "python3"
  },
  "language_info": {
   "codemirror_mode": {
    "name": "ipython",
    "version": 3
   },
   "file_extension": ".py",
   "mimetype": "text/x-python",
   "name": "python",
   "nbconvert_exporter": "python",
   "pygments_lexer": "ipython3",
   "version": "3.7.3"
  }
 },
 "nbformat": 4,
 "nbformat_minor": 2
}
