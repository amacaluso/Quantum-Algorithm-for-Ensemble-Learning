{
 "cells": [
  {
   "cell_type": "code",
   "execution_count": 1,
   "metadata": {},
   "outputs": [],
   "source": [
    "%matplotlib inline\n",
    "\n",
    "from Utils import *\n",
    "from modeling import *\n",
    "\n",
    "from qiskit import QuantumCircuit, ClassicalRegister, QuantumRegister\n",
    "from qiskit import BasicAer, execute, IBMQ, Aer\n",
    "from qiskit.compiler import transpile\n",
    "from qiskit.tools.jupyter import *\n",
    "from qiskit.visualization import *\n",
    "from qiskit.circuit import Gate\n",
    "from qiskit.quantum_info.operators import Operator\n",
    "\n",
    "import numpy as np"
   ]
  },
  {
   "cell_type": "code",
   "execution_count": 3,
   "metadata": {},
   "outputs": [],
   "source": [
    "def state_prep(x):\n",
    "    backend = Aer.get_backend('unitary_simulator')\n",
    "\n",
    "    x = normalize_custom(x)\n",
    "\n",
    "    qreg = QuantumRegister(1)\n",
    "    qc = QuantumCircuit(qreg)\n",
    "    # Run the quantum circuit on a unitary simulator backend\n",
    "    job = execute(qc, backend)\n",
    "    result = job.result()\n",
    "    \n",
    "    U = result.get_unitary(qc)\n",
    "    S = Operator(U)\n",
    "    return S\n"
   ]
  },
  {
   "cell_type": "code",
   "execution_count": 50,
   "metadata": {},
   "outputs": [],
   "source": [
    "def swap_test(a,b):\n",
    "    a = normalize_custom(a)\n",
    "    b = normalize_custom(b)\n",
    "    \n",
    "    ancilla = QuantumRegister(1, 'y')\n",
    "    v1 = QuantumRegister(1, 'v_1')\n",
    "    v2 = QuantumRegister(1, 'v_2')\n",
    "    \n",
    "    c = ClassicalRegister(1, 'c')\n",
    "    \n",
    "    qc = QuantumCircuit(v1, v2, ancilla, c)\n",
    "    \n",
    "    S1 = state_prep(a)\n",
    "    qc.unitary(S1, [0], label='$S_{a}$')\n",
    "\n",
    "    S2 = state_prep(b)\n",
    "    qc.unitary(S2, [1], label='$S_{b}$')\n",
    "\n",
    "    qc.barrier()\n",
    "    \n",
    "    qc.h(ancilla[0])\n",
    "    qc.cswap(ancilla[0], v1[0], v2[0])\n",
    "    qc.h(ancilla[0])\n",
    "    qc.measure(ancilla[0], c)\n",
    "    return qc\n",
    "\n",
    "    \n",
    "\n",
    "def ensemble_swap_test(x1, x2, x_test):\n",
    "    n_obs = 2\n",
    "    d=1\n",
    "    \n",
    "    control = QuantumRegister(d, 'd')\n",
    "    data = QuantumRegister(n_obs, 'x')\n",
    "    temp = QuantumRegister(1, 'temp')\n",
    "    data_test = QuantumRegister(1, 'x^{test}')\n",
    "    avg = QuantumRegister(1, 'f_{i}')\n",
    "    c = ClassicalRegister(1, 'c')\n",
    "\n",
    "    qc = QuantumCircuit(control, data, temp, data_test, avg, c)\n",
    "\n",
    "    S1 = state_prep(x1)\n",
    "    qc.unitary(S1, [1], label='$S_x$')\n",
    "    \n",
    "    S2 = state_prep(x2)\n",
    "    qc.unitary(S2, [2], label='$S_x$')\n",
    "    \n",
    "    S3 = state_prep(x_test)\n",
    "    qc.unitary(S3, [4], label='$S_{x}$')\n",
    "    \n",
    "    qc.h(control)\n",
    "\n",
    "    qc.barrier()\n",
    "\n",
    "    qc.cswap(control[0], data[0], temp[0])\n",
    "\n",
    "    qc.x(control[0])\n",
    "    qc.cswap(control[0], data[1], temp[0])\n",
    "    qc.barrier()\n",
    "    \n",
    "    \n",
    "    qc.h(avg[0])\n",
    "    qc.cswap(avg[0], temp[0], data_test[0])\n",
    "    qc.h(avg[0])\n",
    "    qc.measure(avg[0], c)\n",
    "    return qc\n",
    "\n",
    "x1 = [np.random.randint(1, 10), np.random.randint(1, 10)]\n",
    "x2 = [np.random.randint(1, 10), np.random.randint(1, 10)]\n",
    "x_test = [np.random.randint(1, 10), np.random.randint(1, 10)]"
   ]
  },
  {
   "cell_type": "code",
   "execution_count": 31,
   "metadata": {},
   "outputs": [
    {
     "data": {
      "image/png": "[encoded data removed]",
      "text/plain": [
       "<Figure size 621.264x264.88 with 1 Axes>"
      ]
     },
     "execution_count": 31,
     "metadata": {},
     "output_type": "execute_result"
    }
   ],
   "source": [
    "qc = swap_test(x1, x2)\n",
    "qc.draw(output='mpl')"
   ]
  },
  {
   "cell_type": "code",
   "execution_count": 51,
   "metadata": {},
   "outputs": [
    {
     "data": {
      "image/png": "[encoded data removed]",
      "text/plain": [
       "<Figure size 1178.03x572.76 with 1 Axes>"
      ]
     },
     "execution_count": 51,
     "metadata": {},
     "output_type": "execute_result"
    }
   ],
   "source": [
    "qc = ensemble_swap_test(x1, x2, x_test)\n",
    "qc.draw(output='mpl', scale=.9)"
   ]
  },
  {
   "cell_type": "code",
   "execution_count": null,
   "metadata": {},
   "outputs": [],
   "source": [
    "x2"
   ]
  },
  {
   "cell_type": "code",
   "execution_count": null,
   "metadata": {},
   "outputs": [],
   "source": [
    "runs = 50\n",
    "p1_avg = []\n",
    "p1_ens = []\n",
    "\n",
    "for run in range(runs):\n",
    "    # print(run)\n",
    "    x1 = [np.random.randint(1, 10), np.random.randint(1, 10)]\n",
    "    x2 = [np.random.randint(1, 10), np.random.randint(1, 10)]\n",
    "    x_test = [np.random.randint(1, 10), np.random.randint(1, 10)]\n",
    "    \n",
    "    swap_x1 = swap_test(x1, x_test)\n",
    "    r1 = exec_simulator(swap_x1)\n",
    "    r1 = retrieve_proba(r1)\n",
    "    \n",
    "    swap_x2 = swap_test(x2, x_test)\n",
    "    r2 = exec_simulator(swap_x2)\n",
    "    r2 = retrieve_proba(r2)    \n",
    "    \n",
    "    out = [r1, r2]\n",
    "\n",
    "    p0 = [p[0] for p in out]\n",
    "    p1 = [p[1] for p in out]\n",
    "    \n",
    "    r_avg = [np.mean(p0), np.mean(p1)]\n",
    "  \n",
    "    qc = ensemble_swap_test(x1, x2, x_test)\n",
    "\n",
    "    r = exec_simulator(qc)\n",
    "    r_ens = retrieve_proba(r)\n",
    "\n",
    "    p1_avg.append(r_avg[1])\n",
    "    p1_ens.append(r_ens[1])\n"
   ]
  },
  {
   "cell_type": "code",
   "execution_count": null,
   "metadata": {},
   "outputs": [],
   "source": [
    "plt.plot(np.arange(runs), p1_ens, marker='o', color='blue', label='Ens')\n",
    "plt.plot(np.arange(runs), p1_avg, marker='o', color='orange', label = 'AVG')\n",
    "plt.title('Comparison: AVG vs Ensemble', size=12).set_position([.5, 1.05])\n",
    "plt.xlabel('runs', size=12)\n",
    "plt.ylabel(r'$P(\\tilde{y}=1)$', size =12)\n",
    "plt.xticks(np.arange(0, runs+1, 5), size = 12)\n",
    "plt.yticks([0.0, 0.2, 0.4, 0.6, 0.8, 1.0], size = 12)\n",
    "plt.ylim(-.1,.5)\n",
    "plt.grid(alpha=.3)\n",
    "plt.legend()\n",
    "plt.savefig('output/multi_run.png', dpi = 300)"
   ]
  },
  {
   "cell_type": "code",
   "execution_count": null,
   "metadata": {},
   "outputs": [],
   "source": [
    "qc.draw('mpl')"
   ]
  },
  {
   "cell_type": "code",
   "execution_count": null,
   "metadata": {},
   "outputs": [],
   "source": [
    "# Execution on real device\n",
    "IBMQ.load_account()\n",
    "provider = IBMQ.get_provider(hub='ibm-q')\n",
    "provider.backends()\n",
    "backend = provider.get_backend('ibmq_16_melbourne')\n",
    "# optimization_level=3\n",
    "\n",
    "def run_real_device(qc, backend, shots=8192):\n",
    "    job = execute(qc, backend, shots=shots)\n",
    "    results = job.result()\n",
    "    r = results.get_counts(qc)\n",
    "    return r"
   ]
  },
  {
   "cell_type": "code",
   "execution_count": null,
   "metadata": {},
   "outputs": [],
   "source": [
    "runs = 50\n",
    "p1_avg = []\n",
    "p1_ens = []\n",
    "\n",
    "for run in range(runs):\n",
    "    # print(run)\n",
    "    x1 = [np.random.randint(1, 10), np.random.randint(1, 10)]\n",
    "    x2 = [np.random.randint(1, 10), np.random.randint(1, 10)]\n",
    "    x_test = [np.random.randint(1, 10), np.random.randint(1, 10)]\n",
    "    \n",
    "    swap_x1 = swap_test(x1, x_test)\n",
    "    r1 = exec_simulator(swap_x1)\n",
    "    r1 = retrieve_proba(r1)\n",
    "    \n",
    "    swap_x2 = swap_test(x2, x_test)\n",
    "    r2 = exec_simulator(swap_x2)\n",
    "    r2 = retrieve_proba(r2)    \n",
    "    \n",
    "    out = [r1, r2]\n",
    "\n",
    "    p0 = [p[0] for p in out]\n",
    "    p1 = [p[1] for p in out]\n",
    "    \n",
    "    r_avg = [np.mean(p0), np.mean(p1)]\n",
    "  \n",
    "    qc = ensemble_swap_test(x1, x2, x_test)\n",
    "\n",
    "    r = exec_simulator(qc)\n",
    "    r_ens = retrieve_proba(r)\n",
    "\n",
    "    p1_avg.append(r_avg[1])\n",
    "    p1_ens.append(r_ens[1])\n"
   ]
  }
 ],
 "metadata": {
  "kernelspec": {
   "display_name": "Python 3",
   "language": "python",
   "name": "python3"
  },
  "language_info": {
   "codemirror_mode": {
    "name": "ipython",
    "version": 3
   },
   "file_extension": ".py",
   "mimetype": "text/x-python",
   "name": "python",
   "nbconvert_exporter": "python",
   "pygments_lexer": "ipython3",
   "version": "3.7.6"
  }
 },
 "nbformat": 4,
 "nbformat_minor": 2
}
